{
 "cells": [
  {
   "cell_type": "code",
   "id": "initial_id",
   "metadata": {
    "collapsed": true,
    "ExecuteTime": {
     "end_time": "2025-06-30T10:17:37.524948Z",
     "start_time": "2025-06-30T10:17:36.983920Z"
    }
   },
   "source": [
    "from geopy.geocoders import Nominatim\n",
    "\n",
    "geolocator = Nominatim(user_agent=\"geoapi\")\n",
    "location = geolocator.reverse(\"40.7128, -74.0060\", exactly_one=True)\n",
    "print(location.raw['address']['city'])  # Or 'town', 'village', etc.\n"
   ],
   "outputs": [
    {
     "ename": "AttributeError",
     "evalue": "'NoneType' object has no attribute 'raw'",
     "output_type": "error",
     "traceback": [
      "\u001B[1;31m---------------------------------------------------------------------------\u001B[0m",
      "\u001B[1;31mAttributeError\u001B[0m                            Traceback (most recent call last)",
      "Cell \u001B[1;32mIn[2], line 5\u001B[0m\n\u001B[0;32m      3\u001B[0m geolocator \u001B[38;5;241m=\u001B[39m Nominatim(user_agent\u001B[38;5;241m=\u001B[39m\u001B[38;5;124m\"\u001B[39m\u001B[38;5;124mgeoapi\u001B[39m\u001B[38;5;124m\"\u001B[39m)\n\u001B[0;32m      4\u001B[0m location \u001B[38;5;241m=\u001B[39m geolocator\u001B[38;5;241m.\u001B[39mreverse(\u001B[38;5;124m\"\u001B[39m\u001B[38;5;124m-1.5303104, 47.2409422\u001B[39m\u001B[38;5;124m\"\u001B[39m, exactly_one\u001B[38;5;241m=\u001B[39m\u001B[38;5;28;01mTrue\u001B[39;00m)\n\u001B[1;32m----> 5\u001B[0m \u001B[38;5;28mprint\u001B[39m(\u001B[43mlocation\u001B[49m\u001B[38;5;241;43m.\u001B[39;49m\u001B[43mraw\u001B[49m[\u001B[38;5;124m'\u001B[39m\u001B[38;5;124maddress\u001B[39m\u001B[38;5;124m'\u001B[39m][\u001B[38;5;124m'\u001B[39m\u001B[38;5;124mcity\u001B[39m\u001B[38;5;124m'\u001B[39m])  \u001B[38;5;66;03m# Or 'town', 'village', etc.\u001B[39;00m\n",
      "\u001B[1;31mAttributeError\u001B[0m: 'NoneType' object has no attribute 'raw'"
     ]
    }
   ],
   "execution_count": 2
  },
  {
   "metadata": {
    "ExecuteTime": {
     "end_time": "2025-06-30T10:40:21.178267Z",
     "start_time": "2025-06-30T10:40:19.938400Z"
    }
   },
   "cell_type": "code",
   "source": [
    "import pandas as pd\n",
    "\n",
    "# Define the required columns\n",
    "required_columns = [\n",
    "    \"name\",\n",
    "    \"sport\",\n",
    "    \"longitude\",\n",
    "    \"latitude\",\n",
    "    \"opening_hours\",\n",
    "    \"contact:phone\",\n",
    "    \"website\",\n",
    "    \"addr:street\",\n",
    "    \"addr:city\",\n",
    "    \"addr:housenumber\",\n",
    "    \"addr:postcode\",\n",
    "    \"addr:country\"\n",
    "]\n",
    "\n",
    "# Load both CSV files\n",
    "france_df = pd.read_csv(\"fitness_centers_france.csv\", low_memory=False)\n",
    "germany_df = pd.read_csv(\"fitness_centers_germany.csv\", low_memory=False)\n",
    "\n",
    "# Fill missing 'addr:country' with 'FR' and 'DE'\n",
    "france_df['addr:country'] = france_df['addr:country'].fillna('FR')\n",
    "germany_df['addr:country'] = germany_df['addr:country'].fillna('DE')\n",
    "\n",
    "# Select only the required columns\n",
    "france_clean = france_df[required_columns]\n",
    "germany_clean = germany_df[required_columns]\n",
    "\n",
    "# Combine both cleaned datasets\n",
    "combined_df = pd.concat([france_clean, germany_clean], ignore_index=True)\n",
    "\n",
    "# Save to new CSV file\n",
    "combined_df.to_csv(\"fitness_centers.csv\", index=False)\n",
    "\n",
    "print(\"✅ Data cleaned and saved to fitness_centers.csv\")\n"
   ],
   "id": "923513671317ff96",
   "outputs": [
    {
     "name": "stdout",
     "output_type": "stream",
     "text": [
      "✅ Data cleaned and saved to fitness_centers.csv\n"
     ]
    }
   ],
   "execution_count": 1
  },
  {
   "metadata": {
    "ExecuteTime": {
     "end_time": "2025-06-30T10:31:45.698622Z",
     "start_time": "2025-06-30T10:31:45.609367Z"
    }
   },
   "cell_type": "code",
   "source": [
    "import pandas as pd\n",
    "\n",
    "# Load the cleaned data\n",
    "df = pd.read_csv(\"fitness_centers.csv\", low_memory=False)\n",
    "\n",
    "# Drop rows where 'name' is null\n",
    "df = df.dropna(subset=[\"name\"])\n",
    "\n",
    "# Optionally reset index\n",
    "df.reset_index(drop=True, inplace=True)\n",
    "\n",
    "# Save the updated data back to the same file (or a new one if you prefer)\n",
    "df.to_csv(\"fitness_centers.csv\", index=False)\n",
    "\n",
    "print(\"✅ Rows with null 'name' removed and file updated.\")\n"
   ],
   "id": "e2378edcd946f5a4",
   "outputs": [
    {
     "name": "stdout",
     "output_type": "stream",
     "text": [
      "✅ Rows with null 'name' removed and file updated.\n"
     ]
    }
   ],
   "execution_count": 5
  },
  {
   "metadata": {
    "ExecuteTime": {
     "end_time": "2025-07-05T10:18:58.934294Z",
     "start_time": "2025-07-05T10:18:58.195904Z"
    }
   },
   "cell_type": "code",
   "source": [
    "import pandas as pd\n",
    "\n",
    "# Load the cleaned data\n",
    "df = pd.read_csv(\"fitness_centers.csv\", low_memory=False)\n",
    "df.info()"
   ],
   "id": "9ae8d8265774b661",
   "outputs": [
    {
     "name": "stdout",
     "output_type": "stream",
     "text": [
      "<class 'pandas.core.frame.DataFrame'>\n",
      "RangeIndex: 15442 entries, 0 to 15441\n",
      "Data columns (total 13 columns):\n",
      " #   Column            Non-Null Count  Dtype  \n",
      "---  ------            --------------  -----  \n",
      " 0   name              9388 non-null   object \n",
      " 1   sport             10235 non-null  object \n",
      " 2   longitude         15442 non-null  float64\n",
      " 3   latitude          15442 non-null  float64\n",
      " 4   opening_hours     3726 non-null   object \n",
      " 5   contact:phone     773 non-null    object \n",
      " 6   website           3791 non-null   object \n",
      " 7   addr:street       15420 non-null  object \n",
      " 8   addr:city         15377 non-null  object \n",
      " 9   addr:housenumber  5294 non-null   object \n",
      " 10  addr:postcode     15441 non-null  float64\n",
      " 11  addr:country      15442 non-null  object \n",
      " 12  processed         15442 non-null  bool   \n",
      "dtypes: bool(1), float64(3), object(9)\n",
      "memory usage: 1.4+ MB\n"
     ]
    }
   ],
   "execution_count": 1
  },
  {
   "metadata": {
    "ExecuteTime": {
     "end_time": "2025-06-30T16:59:08.263785Z",
     "start_time": "2025-06-30T16:59:07.998093Z"
    }
   },
   "cell_type": "code",
   "source": [
    "from geopy.geocoders import Nominatim\n",
    "\n",
    "geolocator = Nominatim(user_agent=\"geoapi\")\n",
    "location = geolocator.reverse(\"48.9625482, 2.2920216\", language='de')\n",
    "print(location.address)  # Full formatted address\n"
   ],
   "id": "d1f7c45fb63cc29c",
   "outputs": [
    {
     "name": "stdout",
     "output_type": "stream",
     "text": [
      "Fitness Park, 163, Avenue Joffre, Le Cygne d'Enghien, Épinay-sur-Seine, Saint-Denis, Seine-Saint-Denis, Île-de-France, Metropolitanes Frankreich, 93800, Frankreich\n"
     ]
    }
   ],
   "execution_count": 11
  },
  {
   "metadata": {
    "ExecuteTime": {
     "end_time": "2025-06-30T17:54:54.017291Z",
     "start_time": "2025-06-30T17:54:53.679428Z"
    }
   },
   "cell_type": "code",
   "source": [
    "from geopy.geocoders import Nominatim\n",
    "\n",
    "geolocator = Nominatim(user_agent=\"geoapi\")\n",
    "location = geolocator.reverse(\"47.344106, 4.9997986\", language='de')\n",
    "print(location.address)  # Full formatted address\n"
   ],
   "id": "3b37d5930f3e95a",
   "outputs": [
    {
     "name": "stdout",
     "output_type": "stream",
     "text": [
      "Basic-Fit, Route de Troyes, Daix, Dijon, Côte-d'Or, Burgund und Freigrafschaft, Metropolitanes Frankreich, 21121, Frankreich\n"
     ]
    }
   ],
   "execution_count": 22
  },
  {
   "metadata": {},
   "cell_type": "markdown",
   "source": "### File and overwrite all address fields using nominatim and geopy",
   "id": "edd529fa4b6e056b"
  },
  {
   "metadata": {
    "ExecuteTime": {
     "end_time": "2025-06-30T17:30:49.564812Z",
     "start_time": "2025-06-30T17:30:49.527027Z"
    }
   },
   "cell_type": "code",
   "source": "df.columns",
   "id": "3ad85099a1929695",
   "outputs": [
    {
     "data": {
      "text/plain": [
       "Index(['name', 'sport', 'longitude', 'latitude', 'opening_hours',\n",
       "       'contact:phone', 'website', 'addr:street', 'addr:city',\n",
       "       'addr:housenumber', 'addr:postcode', 'addr:country', 'processed'],\n",
       "      dtype='object')"
      ]
     },
     "execution_count": 15,
     "metadata": {},
     "output_type": "execute_result"
    }
   ],
   "execution_count": 15
  },
  {
   "metadata": {
    "ExecuteTime": {
     "end_time": "2025-07-02T07:34:20.686028Z",
     "start_time": "2025-07-02T07:01:29.247717Z"
    }
   },
   "cell_type": "code",
   "source": [
    "import os\n",
    "import pandas as pd\n",
    "from geopy.geocoders import Nominatim\n",
    "from geopy.extra.rate_limiter import RateLimiter\n",
    "import time\n",
    "\n",
    "# === CONFIGURATION ===\n",
    "INPUT_FILE = \"fitness_centers.csv\"\n",
    "OUTPUT_FILE = \"DE_fitness_centers.csv\"\n",
    "BATCH_SIZE = 500                 # Number of rows per batch\n",
    "SLEEP_BETWEEN_BATCHES = 5        # Delay (seconds) between batches\n",
    "USER_AGENT = \"greenfitness_cleaner_batch\"\n",
    "\n",
    "# === LOAD DATA ===\n",
    "if os.path.exists(OUTPUT_FILE):\n",
    "    df = pd.read_csv(OUTPUT_FILE, low_memory=False)\n",
    "else:\n",
    "    df = pd.read_csv(INPUT_FILE, low_memory=False)\n",
    "\n",
    "# Add a 'processed' column if not already present\n",
    "if \"processed\" not in df.columns:\n",
    "    df[\"processed\"] = False\n",
    "\n",
    "# === SET UP GEOCODER ===\n",
    "geolocator = Nominatim(user_agent=USER_AGENT, timeout=10)\n",
    "reverse = RateLimiter(lambda coords: geolocator.reverse(coords, language=\"de\"), min_delay_seconds=1)\n",
    "\n",
    "# === FUNCTION TO FILL ADDRESS DATA ===\n",
    "def reverse_geocode(row):\n",
    "    try:\n",
    "        if pd.notnull(row[\"latitude\"]) and pd.notnull(row[\"longitude\"]):\n",
    "            location = reverse((row[\"latitude\"], row[\"longitude\"]))\n",
    "            if location and location.raw and \"address\" in location.raw:\n",
    "                address = location.raw[\"address\"]\n",
    "                row[\"addr:street\"] = address.get(\"road\", \"\")\n",
    "                row[\"addr:city\"] = (\n",
    "                    address.get(\"city\") or\n",
    "                    address.get(\"town\") or\n",
    "                    address.get(\"village\") or\n",
    "                    address.get(\"hamlet\") or \"\"\n",
    "                )\n",
    "                row[\"addr:housenumber\"] = address.get(\"house_number\", \"\")\n",
    "                row[\"addr:postcode\"] = address.get(\"postcode\", \"\")\n",
    "    except Exception as e:\n",
    "        print(f\"⚠️ Error on row {row.name}: {e}\")\n",
    "    return row\n",
    "\n",
    "# === PROCESS BATCHES ===\n",
    "total_rows = len(df)\n",
    "while True:\n",
    "    unprocessed = df[df[\"processed\"] == False]\n",
    "\n",
    "    if unprocessed.empty:\n",
    "        print(\"✅ All rows processed.\")\n",
    "        break\n",
    "\n",
    "    # Take a batch\n",
    "    batch = unprocessed.head(BATCH_SIZE)\n",
    "    print(f\"🟡 Processing batch {batch.index[0]}–{batch.index[-1]}\")\n",
    "\n",
    "    # Geocode the batch\n",
    "    batch = batch.apply(reverse_geocode, axis=1)\n",
    "\n",
    "    # Update original DataFrame with new values\n",
    "    for col in [\"addr:street\", \"addr:city\", \"addr:housenumber\", \"addr:postcode\"]:\n",
    "        df.loc[batch.index, col] = batch[col]\n",
    "    df.loc[batch.index, \"processed\"] = True\n",
    "\n",
    "    # Save progress to output file\n",
    "    df.to_csv(OUTPUT_FILE, index=False)\n",
    "    print(f\"✅ Batch saved to {OUTPUT_FILE}. Sleeping for {SLEEP_BETWEEN_BATCHES}s...\\n\")\n",
    "\n",
    "    time.sleep(SLEEP_BETWEEN_BATCHES)\n",
    "\n",
    "print(\"🎉 Finished all batches!\")\n"
   ],
   "id": "bc0042cec520d672",
   "outputs": [
    {
     "name": "stdout",
     "output_type": "stream",
     "text": [
      "🟡 Processing batch 13500–13999\n"
     ]
    },
    {
     "name": "stderr",
     "output_type": "stream",
     "text": [
      "C:\\Users\\Olivs\\AppData\\Local\\Temp\\ipykernel_10816\\3318546790.py:66: FutureWarning: Setting an item of incompatible dtype is deprecated and will raise an error in a future version of pandas. Value '['08527' '26382' '42799' '55124' '60528' '40627' '40627' '12587' '66280'\n",
      " '37127' '33378' '61118' '76863' '76863' '76863' '71088' '13347' '13347'\n",
      " '23749' '65817' '13347' '13347' '13347' '13347' '27612' '47829' '19258'\n",
      " '21335' '24939' '55767' '14478' '25421' '81543' '80796' '37671' '71034'\n",
      " '31195' '49661' '80797' '98528' '73765' '88529' '89423' '22459' '88529'\n",
      " '88529' '88529' '88529' '50181' '06114' '95448' '53721' '61440' '04159'\n",
      " '10625' '80634' '04315' '04315' '34121' '27639' '12169' '45661' '10623'\n",
      " '95509' '95509' '95509' '95509' '47533' '90429' '95163' '95163' '95163'\n",
      " '95163' '12165' '10407' '10319' '31535' '63065' '47929' '21521' '59929'\n",
      " '74722' '54568' '39112' '53177' '90449' '33161' '83064' '24106' '70563'\n",
      " '99817' '15345' '87439' '68794' '55130' '06108' '35630' '60389' '64390'\n",
      " '85567' '90491' '36466' '44789' '56566' '97631' '97631' '97631' '97631'\n",
      " '97631' '97631' '66128' '27283' '72654' '18195' '63450' '94481' '94481'\n",
      " '94481' '75045' '75045' '91522' '54338' '61231' '47051' '80636' '41466'\n",
      " '41466' '41466' '41466' '81677' '61352' '96050' '33617' '72108' '72108'\n",
      " '85399' '10829' '51580' '45739' '15344' '21509' '91341' '45657' '86836'\n",
      " '76887' '76887' '76887' '24106' '24106' '24106' '24106' '24106' '72555'\n",
      " '48282' '39288' '22609' '84529' '12683' '29614' '64293' '69198' '26655'\n",
      " '56410' '63303' '96050' '04277' '39288' '40593' '91096' '14550' '84375'\n",
      " '90461' '07743' '97836' '59557' '48231' '48231' '09496' '73614' '45772'\n",
      " '10555' '60314' '15366' '63801' '63801' '63801' '63801' '04626' '31582'\n",
      " '31582' '24568' '87452' '32105' '48155' '14550' '22083' '16540' '61231'\n",
      " '59494' '59494' '61231' '56588' '04178' '78050' '27336' '82347' '23738'\n",
      " '79400' '15344' '15344' '82377' '61169' '61169' '28195' '59555' '10785'\n",
      " '04315' '29614' '30171' '12623' '12623' '87616' '76229' '76229' '76229'\n",
      " '76229' '76229' '76229' '76229' '76229' '76229' '76229' '76229' '88326'\n",
      " '25541' '86899' '33129' '87509' '38871' '53489' '21357' '49214' '96052'\n",
      " '95100' '69207' '69207' '23556' '23556' '23556' '23556' '23556' '52391'\n",
      " '13125' '47829' '93059' '70567' '14469' '10115' '31141' '31141' '31141'\n",
      " '31141' '31141' '31141' '31141' '31141' '31141' '31141' '31141' '31141'\n",
      " '31141' '31141' '31141' '31141' '31141' '31141' '38723' '38723' '38723'\n",
      " '38723' '38723' '04329' '28719' '60314' '07607' '15345' '20253' '93053'\n",
      " '20259' '16540' '16540' '16540' '80634' '91220' '72555' '13187' '02828'\n",
      " '83727' '83727' '53721' '67657' '18435' '65191' '65191' '65191' '65191'\n",
      " '07937' '96050' '95233' '95233' '95233' '95233' '95233' '95233' '85356'\n",
      " '07937' '87527' '87527' '97616' '82194' '01458' '27432' '64295' '76185'\n",
      " '10367' '86368' '53557' '48145' '34582' '34582' '34582' '50933' '15517'\n",
      " '53501' '49176' '04109' '50181' '22297' '78120' '80796' '40597' '67105'\n",
      " '55283' '37688' '94315' '18439' '34131' '13465' '24568' '21481' '80796'\n",
      " '25709' '08237' '08606' '28844' '28844' '28844' '28844' '28844' '28844'\n",
      " '09456' '23628' '09113' '70197' '13086' '88512' '16515' '25746' '85276'\n",
      " '47798' '65185' '01877' '32312' '01445' '88709' '88709' '63599' '01445'\n",
      " '38118' '10179' '34497' '99817' '80634' '71522' '45701' '45701' '94469'\n",
      " '24119' '93413' '10407' '48683' '48712' '46397' '13347' '29664' '86511'\n",
      " '86511' '86511' '86511' '86511' '86511' '86511' '86511' '86511' '86511'\n",
      " '86511' '86511' '86511' '86511' '86511' '82061' '82061' '82061' '82061'\n",
      " '82061' '82061' '82061' '82061' '82061' '82061' '82061' '82061' '82061'\n",
      " '82061' '82061' '82061' '37434' '69124' '16540' '16540' '16540' '76356'\n",
      " '18184' '55411' '49681' '24253' '91054' '26127' '89077' '61231' '06114'\n",
      " '06114' '06114' '23879' '89231' '96126' '12559' '70197' '04425' '44532'\n",
      " '44532' '54292' '52428' '83435' '36341' '47178' '47239' '36100' '01259'\n",
      " '76228' '47669' '85221' '51103' '12359' '59063' '22605' '30657' '72108'\n",
      " '22085' '91052' '12589' '12589' '44791' '50668' '99089' '53474' '78126'\n",
      " '18574' '41462' '31303' '40670' '10115' '69124' '60487' '81827' '96337'\n",
      " '18258' '85221' '40670' '24768' '85764' '40789' '66740' '38122' '73035'\n",
      " '10405' '31319' '53909' '53909' '53909']' has dtype incompatible with float64, please explicitly cast to a compatible dtype first.\n",
      "  df.loc[batch.index, col] = batch[col]\n"
     ]
    },
    {
     "name": "stdout",
     "output_type": "stream",
     "text": [
      "✅ Batch saved to DE_fitness_centers.csv. Sleeping for 5s...\n",
      "\n",
      "🟡 Processing batch 14000–14499\n",
      "✅ Batch saved to DE_fitness_centers.csv. Sleeping for 5s...\n",
      "\n",
      "🟡 Processing batch 14500–14999\n",
      "✅ Batch saved to DE_fitness_centers.csv. Sleeping for 5s...\n",
      "\n",
      "🟡 Processing batch 15000–15441\n",
      "✅ Batch saved to DE_fitness_centers.csv. Sleeping for 5s...\n",
      "\n",
      "✅ All rows processed.\n",
      "🎉 Finished all batches!\n"
     ]
    }
   ],
   "execution_count": 1
  },
  {
   "metadata": {},
   "cell_type": "code",
   "outputs": [],
   "execution_count": null,
   "source": "",
   "id": "f0f787e9a91246e9"
  }
 ],
 "metadata": {
  "kernelspec": {
   "display_name": "Python 3",
   "language": "python",
   "name": "python3"
  },
  "language_info": {
   "codemirror_mode": {
    "name": "ipython",
    "version": 2
   },
   "file_extension": ".py",
   "mimetype": "text/x-python",
   "name": "python",
   "nbconvert_exporter": "python",
   "pygments_lexer": "ipython2",
   "version": "2.7.6"
  }
 },
 "nbformat": 4,
 "nbformat_minor": 5
}
